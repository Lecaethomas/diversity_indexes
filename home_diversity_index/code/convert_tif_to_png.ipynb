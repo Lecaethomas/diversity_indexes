{
 "cells": [
  {
   "cell_type": "code",
   "execution_count": null,
   "metadata": {},
   "outputs": [],
   "source": [
    "# %%\n",
    "## Folium ne supporte pas bien les .tif , ici on convertit un tif en png, ça passe mieux\n",
    "from PIL import Image\n",
    "\n",
    "# Open the tiff file\n",
    "im = Image.open(os.path.join(data_directory, \"oso_2021_4326.tif\"))\n",
    "\n",
    "# Convert the tiff file to png\n",
    "im.save(\"raster.png\", \"png\")\n",
    "\n",
    "# %%\n",
    "import fiona; fiona.supported_drivers"
   ]
  }
 ],
 "metadata": {
  "kernelspec": {
   "display_name": "gis_1",
   "language": "python",
   "name": "python3"
  },
  "language_info": {
   "name": "python",
   "version": "3.9.16"
  },
  "orig_nbformat": 4
 },
 "nbformat": 4,
 "nbformat_minor": 2
}
