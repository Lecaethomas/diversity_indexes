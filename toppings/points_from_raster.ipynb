{
 "cells": [
  {
   "cell_type": "code",
   "execution_count": 3,
   "metadata": {},
   "outputs": [
    {
     "name": "stdout",
     "output_type": "stream",
     "text": [
      "c:\\_DEV\\test\\landscape_metrics\\landscape_metrics_home\\home_diversity_index\\output\n"
     ]
    }
   ],
   "source": [
    "import os\n",
    "## Define directories\n",
    "\n",
    "\n",
    "# Get the path to the parent directory\n",
    "parent_directory = os.path.abspath(os.path.join(os.getcwd(), \"..\"))\n",
    "#### Data dir\n",
    "# Construct the path to the data directory\n",
    "data_directory = os.path.join(parent_directory, \"data\")\n",
    "# Create the directory if it doesn't exist\n",
    "if not os.path.exists(data_directory):\n",
    "    os.mkdir(data_directory)\n",
    "#### Output dir\n",
    "# Construct the path to the data directory\n",
    "output_directory = os.path.join(parent_directory, \"output\")\n",
    "# Create the directory if it doesn't exist\n",
    "if not os.path.exists(output_directory):\n",
    "    os.mkdir(output_directory)\n",
    "\n",
    "print(output_directory)"
   ]
  },
  {
   "cell_type": "code",
   "execution_count": 4,
   "metadata": {},
   "outputs": [
    {
     "ename": "KeyboardInterrupt",
     "evalue": "",
     "output_type": "error",
     "traceback": [
      "\u001b[1;31m---------------------------------------------------------------------------\u001b[0m",
      "\u001b[1;31mKeyboardInterrupt\u001b[0m                         Traceback (most recent call last)",
      "Cell \u001b[1;32mIn[4], line 27\u001b[0m\n\u001b[0;32m     25\u001b[0m         x, y \u001b[39m=\u001b[39m rasterio\u001b[39m.\u001b[39mtransform\u001b[39m.\u001b[39mxy(transform, i , j )\n\u001b[0;32m     26\u001b[0m         cell_value \u001b[39m=\u001b[39m array[i, j]\n\u001b[1;32m---> 27\u001b[0m         points\u001b[39m.\u001b[39mappend(Point(x, y, \u001b[39mint\u001b[39;49m(cell_value)))\n\u001b[0;32m     29\u001b[0m \u001b[39m# Write the points to a shapefile\u001b[39;00m\n\u001b[0;32m     30\u001b[0m schema \u001b[39m=\u001b[39m {\u001b[39m'\u001b[39m\u001b[39mgeometry\u001b[39m\u001b[39m'\u001b[39m: \u001b[39m'\u001b[39m\u001b[39mPoint\u001b[39m\u001b[39m'\u001b[39m, \u001b[39m'\u001b[39m\u001b[39mproperties\u001b[39m\u001b[39m'\u001b[39m: {\u001b[39m'\u001b[39m\u001b[39mcell_value\u001b[39m\u001b[39m'\u001b[39m: \u001b[39m'\u001b[39m\u001b[39mint\u001b[39m\u001b[39m'\u001b[39m}}\n",
      "File \u001b[1;32mc:\\Users\\tlecae\\Anaconda3\\envs\\gis_1\\lib\\site-packages\\shapely\\geometry\\point.py:78\u001b[0m, in \u001b[0;36mPoint.__new__\u001b[1;34m(self, *args)\u001b[0m\n\u001b[0;32m     76\u001b[0m \u001b[39mif\u001b[39;00m \u001b[39mnot\u001b[39;00m np\u001b[39m.\u001b[39missubdtype(coords\u001b[39m.\u001b[39mdtype, np\u001b[39m.\u001b[39mnumber):\n\u001b[0;32m     77\u001b[0m     coords \u001b[39m=\u001b[39m [\u001b[39mfloat\u001b[39m(c) \u001b[39mfor\u001b[39;00m c \u001b[39min\u001b[39;00m coords]\n\u001b[1;32m---> 78\u001b[0m geom \u001b[39m=\u001b[39m shapely\u001b[39m.\u001b[39;49mpoints(coords)\n\u001b[0;32m     79\u001b[0m \u001b[39mif\u001b[39;00m \u001b[39mnot\u001b[39;00m \u001b[39misinstance\u001b[39m(geom, Point):\n\u001b[0;32m     80\u001b[0m     \u001b[39mraise\u001b[39;00m \u001b[39mValueError\u001b[39;00m(\u001b[39m\"\u001b[39m\u001b[39mInvalid values passed to Point constructor\u001b[39m\u001b[39m\"\u001b[39m)\n",
      "File \u001b[1;32mc:\\Users\\tlecae\\Anaconda3\\envs\\gis_1\\lib\\site-packages\\shapely\\decorators.py:77\u001b[0m, in \u001b[0;36mmultithreading_enabled.<locals>.wrapped\u001b[1;34m(*args, **kwargs)\u001b[0m\n\u001b[0;32m     75\u001b[0m     \u001b[39mfor\u001b[39;00m arr \u001b[39min\u001b[39;00m array_args:\n\u001b[0;32m     76\u001b[0m         arr\u001b[39m.\u001b[39mflags\u001b[39m.\u001b[39mwriteable \u001b[39m=\u001b[39m \u001b[39mFalse\u001b[39;00m\n\u001b[1;32m---> 77\u001b[0m     \u001b[39mreturn\u001b[39;00m func(\u001b[39m*\u001b[39margs, \u001b[39m*\u001b[39m\u001b[39m*\u001b[39mkwargs)\n\u001b[0;32m     78\u001b[0m \u001b[39mfinally\u001b[39;00m:\n\u001b[0;32m     79\u001b[0m     \u001b[39mfor\u001b[39;00m arr, old_flag \u001b[39min\u001b[39;00m \u001b[39mzip\u001b[39m(array_args, old_flags):\n",
      "File \u001b[1;32mc:\\Users\\tlecae\\Anaconda3\\envs\\gis_1\\lib\\site-packages\\shapely\\creation.py:74\u001b[0m, in \u001b[0;36mpoints\u001b[1;34m(coords, y, z, indices, out, **kwargs)\u001b[0m\n\u001b[0;32m     72\u001b[0m coords \u001b[39m=\u001b[39m _xyz_to_coords(coords, y, z)\n\u001b[0;32m     73\u001b[0m \u001b[39mif\u001b[39;00m indices \u001b[39mis\u001b[39;00m \u001b[39mNone\u001b[39;00m:\n\u001b[1;32m---> 74\u001b[0m     \u001b[39mreturn\u001b[39;00m lib\u001b[39m.\u001b[39mpoints(coords, out\u001b[39m=\u001b[39mout, \u001b[39m*\u001b[39m\u001b[39m*\u001b[39mkwargs)\n\u001b[0;32m     75\u001b[0m \u001b[39melse\u001b[39;00m:\n\u001b[0;32m     76\u001b[0m     \u001b[39mreturn\u001b[39;00m simple_geometries_1d(coords, indices, GeometryType\u001b[39m.\u001b[39mPOINT, out\u001b[39m=\u001b[39mout)\n",
      "\u001b[1;31mKeyboardInterrupt\u001b[0m: "
     ]
    }
   ],
   "source": [
    "# %%\n",
    "## On souhaite pouvoir extraire des centroids de cellule Raster ainsi que le digital number et les ecrire dans un fichier\n",
    "\n",
    "import rasterio.features\n",
    "import numpy as np\n",
    "from shapely.geometry import shape, Point\n",
    "import fiona\n",
    "from shapely import geometry\n",
    "import os\n",
    "\n",
    "# Load the raster data\n",
    "with rasterio.open(os.path.join(data_directory, \"oso_2021_4326.tif\")) as src:\n",
    "    array = src.read(1)\n",
    "    transform = src.transform\n",
    "\n",
    "nodata_value = 0\n",
    "\n",
    "# Create a list of points from the raster cells\n",
    "points = []\n",
    "# Add a point to the points list\n",
    "for i, j in np.ndindex(array.shape):\n",
    "    # Add a point to the points list\n",
    "    if array[i, j] != nodata_value:\n",
    "        # Get the coordinates of the cell center\n",
    "        x, y = rasterio.transform.xy(transform, i , j )\n",
    "        cell_value = array[i, j]\n",
    "        points.append(Point(x, y, int(cell_value)))\n",
    "\n",
    "# Write the points to a shapefile\n",
    "schema = {'geometry': 'Point', 'properties': {'cell_value': 'int'}}\n",
    "with fiona.open(os.path.join(output_directory, \"points.shp\"), 'w', 'ESRI Shapefile', schema, crs='epsg:4326') as output:\n",
    "\n",
    "    # Write the points to the output file.\n",
    "\n",
    "    for p in points:\n",
    "        output.write({'geometry': geometry.mapping(p), 'properties': {'cell_value': p.z}})"
   ]
  }
 ],
 "metadata": {
  "kernelspec": {
   "display_name": "gis_1",
   "language": "python",
   "name": "python3"
  },
  "language_info": {
   "codemirror_mode": {
    "name": "ipython",
    "version": 3
   },
   "file_extension": ".py",
   "mimetype": "text/x-python",
   "name": "python",
   "nbconvert_exporter": "python",
   "pygments_lexer": "ipython3",
   "version": "3.9.16"
  },
  "orig_nbformat": 4
 },
 "nbformat": 4,
 "nbformat_minor": 2
}
